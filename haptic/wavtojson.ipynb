{
 "cells": [
  {
   "cell_type": "markdown",
   "metadata": {},
   "source": [
    "youtube 영상 wav로 다운받기 \n",
    "<br>\n",
    "https://4kdownload.to/ko/youtube-wav-downloader"
   ]
  },
  {
   "cell_type": "code",
   "execution_count": null,
   "metadata": {},
   "outputs": [],
   "source": []
  },
  {
   "cell_type": "code",
   "execution_count": 1,
   "metadata": {},
   "outputs": [],
   "source": [
    "import librosa\n",
    "import numpy as np\n",
    "\n",
    "# 오디오 파일 로드\n",
    "y, sr = librosa.load(\"beethoven2.mp3\")\n",
    "title = \"beethoven\"\n",
    "\n",
    "# 볼륨(Amplitude) 추출\n",
    "amplitude = np.abs(librosa.stft(y)).mean(axis=1)\n",
    "\n",
    "# 비트 추출\n",
    "tempo, beat_frames = librosa.beat.beat_track(y=y, sr=sr)\n",
    "beat_times = librosa.frames_to_time(beat_frames, sr=sr)\n",
    "\n",
    "# JSON 데이터 생성 (예: 진동 시간과 강도)\n",
    "vibration_data = [\n",
    "    {\"time\": round(time, 2), \"intensity\": int(amp / max(amplitude) * 255)} \n",
    "    for time, amp in zip(beat_times, amplitude)\n",
    "]\n",
    "\n",
    "# JSON 파일로 저장\n",
    "import json\n",
    "with open(f\"{title}_resultmp3.json\", \"w\") as f:\n",
    "    json.dump(vibration_data, f)\n"
   ]
  },
  {
   "cell_type": "code",
   "execution_count": 1,
   "metadata": {},
   "outputs": [
    {
     "name": "stdout",
     "output_type": "stream",
     "text": [
      "3.499215841293335 초 소요\n"
     ]
    }
   ],
   "source": [
    "# 안드용 parallel  data.json 생성 코드\n",
    "\n",
    "import librosa\n",
    "import numpy as np\n",
    "from time import time\n",
    "import json\n",
    "\n",
    "t1 = time()\n",
    "y, sr = librosa.load(\"beethoven.wav\")\n",
    "title = \"beethoven\"\n",
    "\n",
    "# 볼륨(Amplitude) 추출\n",
    "amplitude = np.abs(librosa.stft(y)).mean(axis=1)\n",
    "\n",
    "# 비트 추출\n",
    "tempo, beat_frames = librosa.beat.beat_track(y=y, sr=sr)\n",
    "beat_times = librosa.frames_to_time(beat_frames, sr=sr)\n",
    "\n",
    "# JSON 데이터 생성 (예: 진동 시간과 강도)\n",
    "vibration_data = [\n",
    "    {\"time\": [round(time, 2) for time in beat_times], \"intensity\": [int(amp / max(amplitude) * 255) for amp in amplitude]} \n",
    "]\n",
    "\n",
    "# JSON 파일로 저장\n",
    "\n",
    "with open(f\"{title}_result.json\", \"w\") as f:\n",
    "    json.dump(vibration_data, f)\n",
    "    t2 = time()\n",
    "    print(f'{t2-t1} 초 소요')"
   ]
  },
  {
   "cell_type": "code",
   "execution_count": 4,
   "metadata": {},
   "outputs": [
    {
     "name": "stdout",
     "output_type": "stream",
     "text": [
      "1.2260160446166992 초 소요\n"
     ]
    }
   ],
   "source": [
    "# 코드 최적화 \n",
    "\n",
    "import librosa\n",
    "import numpy as np\n",
    "import json\n",
    "from time import time\n",
    "\n",
    "t1 = time()\n",
    "# 오디오 파일 로드\n",
    "y, sr = librosa.load(\"beethoven.wav\")\n",
    "title = \"beethoven\"\n",
    "\n",
    "\n",
    "# 볼륨(Amplitude) 추출\n",
    "amplitude = np.abs(librosa.stft(y)).mean(axis=1)\n",
    "\n",
    "# 비트 추출\n",
    "tempo, beat_frames = librosa.beat.beat_track(y=y, sr=sr)\n",
    "beat_times = np.round(librosa.frames_to_time(beat_frames, sr=sr), 2)  # 반올림을 바로 적용\n",
    "\n",
    "# 강도 정규화 및 클리핑 (벡터화 연산 사용)\n",
    "max_amplitude = max(amplitude)\n",
    "intensities = np.clip((amplitude / max_amplitude * 255), 0, 255).astype(int)\n",
    "\n",
    "# JSON 데이터 생성\n",
    "vibration_data = [{\n",
    "    \"time\": beat_times.tolist(),\n",
    "    \"intensity\": intensities.tolist()\n",
    "}]\n",
    "\n",
    "# JSON 파일로 저장\n",
    "with open(f\"{title}_result2.json\", \"w\") as f:\n",
    "    json.dump(vibration_data, f)\n",
    "    t2 = time()\n",
    "    print(f'{t2-t1} 초 소요')\n"
   ]
  },
  {
   "cell_type": "code",
   "execution_count": 3,
   "metadata": {},
   "outputs": [
    {
     "name": "stdout",
     "output_type": "stream",
     "text": [
      "0.6462111473083496 초 소요\n"
     ]
    }
   ],
   "source": [
    "# 코드 최적화 최종본\n",
    "\n",
    "import librosa\n",
    "import numpy as np\n",
    "import json\n",
    "from time import time\n",
    "\n",
    "t1 = time()\n",
    "# 오디오 파일 로드\n",
    "y, sr = librosa.load(\"beethoven2.mp3\")\n",
    "title = \"beethoven\"\n",
    "\n",
    "\n",
    "# 볼륨(Amplitude) 추출\n",
    "amplitude = np.abs(librosa.stft(y)).mean(axis=1)\n",
    "\n",
    "# 비트 추출\n",
    "tempo, beat_frames = librosa.beat.beat_track(y=y, sr=sr)\n",
    "beat_times = np.round(librosa.frames_to_time(beat_frames, sr=sr), 2)  # 반올림을 바로 적용\n",
    "\n",
    "# 강도 정규화 및 클리핑 (벡터화 연산 사용)\n",
    "max_amplitude = max(amplitude)\n",
    "intensities = np.clip((amplitude / max_amplitude * 255), 0, 255).astype(int)\n",
    "\n",
    "# JSON 데이터 생성\n",
    "vibration_data = [{\n",
    "    \"time\": beat_times.tolist(),\n",
    "    \"intensity\": intensities.tolist()\n",
    "}]\n",
    "\n",
    "# JSON 파일로 저장\n",
    "with open(f\"{title}_result2.json\", \"w\") as f:\n",
    "    json.dump(vibration_data, f)\n",
    "    t2 = time()\n",
    "    print(f'{t2-t1} 초 소요')"
   ]
  }
 ],
 "metadata": {
  "kernelspec": {
   "display_name": "venv",
   "language": "python",
   "name": "python3"
  },
  "language_info": {
   "codemirror_mode": {
    "name": "ipython",
    "version": 3
   },
   "file_extension": ".py",
   "mimetype": "text/x-python",
   "name": "python",
   "nbconvert_exporter": "python",
   "pygments_lexer": "ipython3",
   "version": "3.12.7"
  }
 },
 "nbformat": 4,
 "nbformat_minor": 2
}
